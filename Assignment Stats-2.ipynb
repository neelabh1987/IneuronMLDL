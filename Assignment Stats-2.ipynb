{
 "cells": [
  {
   "cell_type": "markdown",
   "id": "8915f3c9",
   "metadata": {},
   "source": [
    "### Problem Statement 1:\n",
    "\n",
    "In each of the following situations, state whether it is a correctly stated hypothesis\n",
    "testing problem and why?\n",
    "1. H0: μ = 25, H1: μ ≠ 25\n",
    "2. H0: σ > 10, H1: σ = 10\n",
    "3. H0: x = 50, H1: x ≠ 50\n",
    "4. H0: p = 0.1, H1: p = 0.5\n",
    "5. H0: s = 30, H1: s > 30"
   ]
  },
  {
   "cell_type": "markdown",
   "id": "d242803c",
   "metadata": {},
   "source": [
    "1. Yes, because in null hypothesis & in alternate hypothesis population mean is taken.\n",
    "2. No, because null hypothesis has inequality claim & alternate hypothesis has equality claim.\n",
    "3. No, because sample distribution is taken in both the null hypothesis & in alternate hypothesis.\n",
    "4. No, because p-values are different & has an equal sign in both the null hypothesis & in alternate hypothesis.\n",
    "5. No, because sample standard deviation is taken in both the hypothesis. Population statistics should be used."
   ]
  },
  {
   "cell_type": "markdown",
   "id": "92e52520",
   "metadata": {},
   "source": [
    "### Problem Statement 2:\n",
    "\n",
    "The college bookstore tells prospective students that the average cost of its\n",
    "textbooks is Rs. 52 with a standard deviation of Rs. 4.50. A group of smart statistics\n",
    "students thinks that the average cost is higher. To test the bookstore’s claim against\n",
    "their alternative, the students will select a random sample of size 100. Assume that\n",
    "the mean from their random sample is Rs. 52.80. Perform a hypothesis test at the\n",
    "5% level of significance and state your decision."
   ]
  },
  {
   "cell_type": "code",
   "execution_count": 3,
   "id": "47df636a",
   "metadata": {},
   "outputs": [
    {
     "name": "stdout",
     "output_type": "stream",
     "text": [
      "Critical region lies between -1.9599639845400545 and 1.9599639845400545\n",
      "1.7777777777777715\n"
     ]
    }
   ],
   "source": [
    "from scipy.stats import norm\n",
    "import math\n",
    "import numpy as np\n",
    "\n",
    "p_mean = 52\n",
    "p_std = 4.5\n",
    "n = 100\n",
    "s_mean = 52.8\n",
    "alpha = 0.05\n",
    "\n",
    "SE = p_std/n**0.5\n",
    "print(\"Critical region lies between\", norm.ppf(alpha/2), \"and\", -norm.ppf(alpha/2))\n",
    "z_stats = (s_mean - p_mean)/SE\n",
    "print(z_stats)"
   ]
  },
  {
   "cell_type": "markdown",
   "id": "b31825bf",
   "metadata": {},
   "source": [
    "As the Z-value lies in the critical region the null hypothesis can not be rejected. The average cost of the textbooks is Rs. 52"
   ]
  },
  {
   "cell_type": "markdown",
   "id": "5cee3219",
   "metadata": {},
   "source": [
    "### Problem Statement 3:\n",
    "\n",
    "A certain chemical pollutant in the Genesee River has been constant for several\n",
    "years with mean μ = 34 ppm (parts per million) and standard deviation σ = 8 ppm. A\n",
    "group of factory representatives whose companies discharge liquids into the river is\n",
    "now claiming that they have lowered the average with improved filtration devices. A\n",
    "group of environmentalists will test to see if this is true at the 1% level of\n",
    "significance. Assume \\ that their sample of size 50 gives a mean of 32.5 ppm.\n",
    "Perform a hypothesis test at the 1% level of significance and state your decision."
   ]
  },
  {
   "cell_type": "code",
   "execution_count": 2,
   "id": "61462ab4",
   "metadata": {},
   "outputs": [
    {
     "name": "stdout",
     "output_type": "stream",
     "text": [
      "Critical region lies between -2.575829303548901 and 2.575829303548901\n",
      "-1.3258252147247767\n"
     ]
    }
   ],
   "source": [
    "p_mean = 34\n",
    "p_std = 8\n",
    "n = 50\n",
    "s_mean = 32.5\n",
    "alpha = 0.01\n",
    "\n",
    "SE = p_std/n**0.5\n",
    "print(\"Critical region lies between\", norm.ppf(alpha/2), \"and\", -norm.ppf(alpha/2))\n",
    "z_stats = (s_mean - p_mean)/SE\n",
    "print(z_stats)"
   ]
  },
  {
   "cell_type": "markdown",
   "id": "5c006f85",
   "metadata": {},
   "source": [
    "Since the Z-value lies inside critical region, null hypothesis is accepted. Hence chemical pollutant in the Genesee river has been constant for several years with mean = 34 ppm."
   ]
  },
  {
   "cell_type": "markdown",
   "id": "2ef9d3e0",
   "metadata": {},
   "source": [
    "### Problem Statement 4:\n",
    "\n",
    "Based on population figures and other general information on the U.S. population,\n",
    "suppose it has been estimated that, on average, a family of four in the U.S. spends\n",
    "about $1135 annually on dental expenditures. Suppose further that a regional dental\n",
    "association wants to test to determine if this figure is accurate for their area of\n",
    "country. To test this, 22 families of 4 are randomly selected from the population in\n",
    "that area of the country and a log is kept of the family’s dental expenditure for one\n",
    "year. The resulting data are given below. Assuming, that dental expenditure is\n",
    "normally distributed in the population, use the data and an alpha of 0.5 to test the\n",
    "dental association’s hypothesis.\n",
    "1008, 812, 1117, 1323, 1308, 1415, 831, 1021, 1287, 851, 930, 730, 699,\n",
    "872, 913, 944, 954, 987, 1695, 995, 1003, 994"
   ]
  },
  {
   "cell_type": "code",
   "execution_count": 4,
   "id": "a3ad9e53",
   "metadata": {},
   "outputs": [
    {
     "name": "stdout",
     "output_type": "stream",
     "text": [
      "t_stats is -2.070747228595759\n",
      "Critical region is -0.6863519891164291 and 0.6863519891164291\n"
     ]
    }
   ],
   "source": [
    "from scipy import stats\n",
    "\n",
    "p_mean = 1135\n",
    "n = 22\n",
    "alpha = 0.5\n",
    "sample = [1008, 812, 1117, 1323, 1308, 1415, 831, 1021, 1287, 851, 930, 730, 699, 872, 913, 944, 954, 987, 1695, 995, 1003, 994]\n",
    "s_mean = np.mean(sample)\n",
    "## Since population standard deviation is not given & sample size < 30, t-test will be used.\n",
    "s_std = np.std(sample)\n",
    "SE = s_std/n**0.5\n",
    "t_stats = (s_mean-p_mean)/SE\n",
    "print(\"t_stats is\", t_stats)\n",
    "print(\"Critical region is\", stats.t.ppf(alpha/2, df = n-1), \"and\", stats.t.ppf(1 - alpha/2, df = n-1))"
   ]
  },
  {
   "cell_type": "markdown",
   "id": "bdc1d1df",
   "metadata": {},
   "source": [
    "### Null hypothesis is rejected as t_value lies in the critical region.On an average a family of four in the U.S. spends either more than  1135 or less than 1135."
   ]
  },
  {
   "cell_type": "markdown",
   "id": "a2e05df2",
   "metadata": {},
   "source": [
    "### Problem Statement 5:\n",
    "\n",
    "In a report prepared by the Economic Research Department of a major bank the\n",
    "Department manager maintains that the average annual family income on Metropolis\n",
    "is 48,432. What do you conclude about the validity of the report if a random sample\n",
    "of 400 families shows and average income of 48,574 with a standard deviation of\n",
    "2000?"
   ]
  },
  {
   "cell_type": "code",
   "execution_count": 6,
   "id": "843771be",
   "metadata": {},
   "outputs": [
    {
     "name": "stdout",
     "output_type": "stream",
     "text": [
      "1.42\n",
      "Critical region lies between:  -1.9599639845400545 and 1.9599639845400545\n"
     ]
    }
   ],
   "source": [
    "p_mean = 48432\n",
    "n = 400\n",
    "s_mean = 48574\n",
    "p_std = 2000\n",
    "alpha = 0.05\n",
    "SE = 2000/n**0.5\n",
    "Z_stats = (s_mean - p_mean)/SE\n",
    "print(Z_stats)\n",
    "print(\"Critical region is: \", norm.ppf(alpha/2), \"and\", -norm.ppf(alpha/2))"
   ]
  },
  {
   "cell_type": "markdown",
   "id": "7372ee5c",
   "metadata": {},
   "source": [
    "Z_value lies outside of critical region, null hypothesis is accepted. So, the average annual family income on Metropolis is 48432."
   ]
  },
  {
   "cell_type": "markdown",
   "id": "9d68c96c",
   "metadata": {},
   "source": [
    "### Problem statement 6:\n",
    "\n",
    "Suppose that in past years the average price per square foot for warehouses in the\n",
    "United States has been 32.28 USD. A national real estate investor wants to determine\n",
    "whether that figure has changed now. The investor hires a researcher who randomly\n",
    "samples 19 warehouses that are for sale across the United States and finds that the\n",
    "mean price per square foot is 31.67 USD, with a standard deviation of 1.29 USD. assume\n",
    "that the prices of warehouse footage are normally distributed in population. If the\n",
    "researcher uses a 5% level of significance, what statistical conclusion can be\n",
    "reached? What are the hypotheses?"
   ]
  },
  {
   "cell_type": "code",
   "execution_count": 17,
   "id": "af9b738d",
   "metadata": {},
   "outputs": [
    {
     "name": "stdout",
     "output_type": "stream",
     "text": [
      "t_stats is -2.1\n",
      "Critical region is -2.10092204024096 and 2.10092204024096\n"
     ]
    }
   ],
   "source": [
    "p_mean = 32.28\n",
    "n = 19\n",
    "s_mean = 31.67\n",
    "s_std = 1.29\n",
    "alpha = 0.05\n",
    "SE = s_std/n**0.5\n",
    "t_stats = (s_mean-p_mean)/SE\n",
    "print(\"t_stats is\", (round((t_stats),1)))\n",
    "print(\"Critical region is\", stats.t.ppf(alpha/2, df = n-1), \"and\", stats.t.ppf(1 - alpha/2, df = n-1))"
   ]
  },
  {
   "cell_type": "markdown",
   "id": "99ca8ad4",
   "metadata": {},
   "source": [
    "### t-value lies within the critical region, null hypothesis is rejected. So, the average price per square foot for warehouses in the US is either greater then 32.28 USD or less than 32.28 USD"
   ]
  },
  {
   "cell_type": "markdown",
   "id": "64ef81f2",
   "metadata": {},
   "source": [
    "### Problem statement 8\n",
    "\n"
   ]
  },
  {
   "cell_type": "markdown",
   "id": "679d81ae",
   "metadata": {},
   "source": [
    "Find the t-score for a sample size of 16 taken from a population with mean 10 when\n",
    "the sample mean is 12 and the sample standard deviation is 1.5."
   ]
  },
  {
   "cell_type": "code",
   "execution_count": 1,
   "id": "7fed6343",
   "metadata": {},
   "outputs": [
    {
     "name": "stdout",
     "output_type": "stream",
     "text": [
      "t_score =  5.333333333333333\n"
     ]
    }
   ],
   "source": [
    "n = 16\n",
    "p_mean = 10\n",
    "s_mean = 12\n",
    "s_std = 1.5\n",
    "SE = s_std/n**0.5\n",
    "t_score = (s_mean - p_mean)/SE\n",
    "print(\"t_score = \", t_score)"
   ]
  },
  {
   "cell_type": "markdown",
   "id": "2727d944",
   "metadata": {},
   "source": [
    "### Problem statement 9"
   ]
  },
  {
   "cell_type": "markdown",
   "id": "c4dfe973",
   "metadata": {},
   "source": [
    "Find the t-score below which we can expect 99% of sample means will fall if samples\n",
    "of size 16 are taken from a normally distributed population."
   ]
  },
  {
   "cell_type": "code",
   "execution_count": 6,
   "id": "48556a26",
   "metadata": {},
   "outputs": [
    {
     "name": "stdout",
     "output_type": "stream",
     "text": [
      "t_score is 2.946712883338615\n"
     ]
    }
   ],
   "source": [
    "n= 16\n",
    "alpha=(1-0.99)/2\n",
    "print(f\"t_score is {stats.t.ppf(1-alpha,df=15)}\")"
   ]
  },
  {
   "cell_type": "markdown",
   "id": "e2dc2ed5",
   "metadata": {},
   "source": [
    "### Problem statement 10"
   ]
  },
  {
   "cell_type": "markdown",
   "id": "5fcd857a",
   "metadata": {},
   "source": [
    "If a random sample of size 25 drawn from a normal population gives a mean of 60\n",
    "and a standard deviation of 4, find the range of t-scores where we can expect to find\n",
    "the middle 95% of all sample means. Compute the probability that (−t0.05 <t<t0.10)."
   ]
  },
  {
   "cell_type": "code",
   "execution_count": 4,
   "id": "7a2985d3",
   "metadata": {},
   "outputs": [
    {
     "name": "stdout",
     "output_type": "stream",
     "text": [
      "Range of t_score :  61.651118849302414 and 58.348881150697586\n"
     ]
    }
   ],
   "source": [
    "n = 25\n",
    "mean = 60\n",
    "std = 4\n",
    "alpha = (1 - 0.95)/2\n",
    "t_score=stats.t.ppf(1-alpha,df=24)\n",
    "print(\"Range of t_score : \", mean + t_score*(std/n**0.5), \"and\", mean - t_score*(std/n**0.5))"
   ]
  },
  {
   "cell_type": "markdown",
   "id": "608a07b8",
   "metadata": {},
   "source": [
    "### Problem statement 11"
   ]
  },
  {
   "cell_type": "markdown",
   "id": "f099577d",
   "metadata": {},
   "source": [
    "Two-tailed test for difference between two population means\n",
    "Is there evidence to conclude that the number of people travelling from Bangalore to\n",
    "Chennai is different from the number of people travelling from Bangalore to Hosur in\n",
    "a week, given the following:\n",
    "Population 1: Bangalore to Chennai n1 = 1200\n",
    "x1 = 452\n",
    "s1 = 212\n",
    "Population 2: Bangalore to Hosur n2 = 800\n",
    "x2 = 523\n",
    "s2 = 185"
   ]
  },
  {
   "cell_type": "code",
   "execution_count": 6,
   "id": "8e747d63",
   "metadata": {},
   "outputs": [
    {
     "name": "stdout",
     "output_type": "stream",
     "text": [
      "Z_score is -7.926428526759299\n",
      "Critical region is:  -1.9599639845400545 1.9599639845400545\n"
     ]
    }
   ],
   "source": [
    "n1 = 1200\n",
    "x1 = 452\n",
    "s1 = 212\n",
    "\n",
    "n2 = 800\n",
    "x2 = 523\n",
    "s2 = 185\n",
    "\n",
    "SE = (s1**2/n1 + s2**2/n2)**0.5\n",
    "z_stat = (x1 - x2)/SE\n",
    "alpha = 0.05\n",
    "print(\"Z_score is\", z_stat)\n",
    "print(\"Critical region is: \", norm.ppf(alpha/2), -norm.ppf(alpha/2))"
   ]
  },
  {
   "cell_type": "markdown",
   "id": "f16a523e",
   "metadata": {},
   "source": [
    "### We reject null hypothesis since it lies within critical region at alpha=5%.So,number of people travelling from Bangalore to Chennai is different from the number of people travelling from Bangalore to Hosur in a week"
   ]
  },
  {
   "cell_type": "markdown",
   "id": "785b39d3",
   "metadata": {},
   "source": [
    "### Problem statement 12"
   ]
  },
  {
   "cell_type": "markdown",
   "id": "28df2fd6",
   "metadata": {},
   "source": [
    "Is there evidence to conclude that the number of people preferring Duracell battery is\n",
    "different from the number of people preferring Energizer battery, given the following:\n",
    "Population 1: Duracell\n",
    "n1 = 100\n",
    "x1 = 308\n",
    "s1 = 84\n",
    "Population 2: Energizer\n",
    "n2 = 100\n",
    "x2 = 254\n",
    "s2 = 67"
   ]
  },
  {
   "cell_type": "code",
   "execution_count": 7,
   "id": "7bfe7eab",
   "metadata": {},
   "outputs": [
    {
     "name": "stdout",
     "output_type": "stream",
     "text": [
      "Z_score is 5.025702668336442\n",
      "Critical region is:  -1.9599639845400545 1.9599639845400545\n"
     ]
    }
   ],
   "source": [
    "n1 = 100\n",
    "x1 = 308\n",
    "s1 = 84\n",
    "\n",
    "n2 = 100\n",
    "x2 = 254\n",
    "s2 = 67\n",
    "\n",
    "SE = (s1**2/n1 + s2**2/n2)**0.5\n",
    "z_stat = (x1 - x2)/SE\n",
    "alpha = 0.05\n",
    "print(\"Z_score is\", z_stat)\n",
    "print(\"Critical region is: \", norm.ppf(alpha/2), -norm.ppf(alpha/2))"
   ]
  },
  {
   "cell_type": "markdown",
   "id": "09f51ffc",
   "metadata": {},
   "source": [
    "### We reject null hypothesis since it lies within critical region at alpha=5%.So, number of people preferring Duracell battery is different from the number of people preferring Energizer battery"
   ]
  },
  {
   "cell_type": "markdown",
   "id": "6af3603e",
   "metadata": {},
   "source": [
    "### Problem statement 13"
   ]
  },
  {
   "cell_type": "markdown",
   "id": "edcbfc73",
   "metadata": {},
   "source": [
    "Pooled estimate of the population variance\n",
    "Does the data provide sufficient evidence to conclude that average percentage\n",
    "increase in the price of sugar differs when it is sold at two different prices?\n",
    "Population 1: Price of sugar = Rs. 27.50 n1 = 14\n",
    "x1 = 0.317%\n",
    "s1 = 0.12%\n",
    "Population 2: Price of sugar = Rs. 20.00 n2 = 9\n",
    "x2 = 0.21%\n",
    "s2 = 0.11%"
   ]
  },
  {
   "cell_type": "code",
   "execution_count": 6,
   "id": "20b2b2c6",
   "metadata": {},
   "outputs": [
    {
     "name": "stdout",
     "output_type": "stream",
     "text": [
      "t_score is  0.3931089218182991\n",
      "Critical region is -2.0796138447276626 and 2.079613844727662\n"
     ]
    }
   ],
   "source": [
    "n1 = 14\n",
    "x1 = 0.317\n",
    "s1 = 0.12\n",
    "\n",
    "n2 = 9\n",
    "x2 = 0.21\n",
    "s2 = 0.11\n",
    "alpha = 0.05\n",
    "\n",
    "\n",
    "t_score = (x1 - x2)/((((n1-1)*s1**2 + (n2-1)*s2**2)/(n1+n2-2))/(1/n1 + 1/n2))**0.5\n",
    "print(\"t_score is \", t_score)\n",
    "print(\"Critical region is\", stats.t.ppf(alpha/2, df = n1+n2-2), \"and\", stats.t.ppf(1 - alpha/2, df = n1+n2-2))"
   ]
  },
  {
   "cell_type": "markdown",
   "id": "d1671e7a",
   "metadata": {},
   "source": [
    "### Null hypothesis is accepted at 5% level of significance. So, the average percentage increase in the price of sugar is same."
   ]
  },
  {
   "cell_type": "markdown",
   "id": "3ccf56b7",
   "metadata": {},
   "source": [
    "### Problem statement 14"
   ]
  },
  {
   "cell_type": "markdown",
   "id": "8ee1ce1b",
   "metadata": {},
   "source": [
    "The manufacturers of compact disk players want to test whether a small price\n",
    "reduction is enough to increase sales of their product. Is there evidence that the\n",
    "small price reduction is enough to increase sales of compact disk players?\n",
    "Population 1: Before reduction\n",
    "n1 = 15\n",
    "x1 = Rs. 6598 s1 = Rs. 844\n",
    "Population 2: After reduction n2 = 12\n",
    "x2 = RS. 6870\n",
    "s2 = Rs. 669"
   ]
  },
  {
   "cell_type": "code",
   "execution_count": 7,
   "id": "bd9cf8a9",
   "metadata": {},
   "outputs": [
    {
     "name": "stdout",
     "output_type": "stream",
     "text": [
      "t_score is  -0.1364745051598569\n",
      "Critical region is -2.0595385527532946 and 2.059538552753294\n"
     ]
    }
   ],
   "source": [
    "n1 = 15\n",
    "x1 = 6598\n",
    "s1 = 844\n",
    "\n",
    "n2 = 12\n",
    "x2 = 6870\n",
    "s2 = 669\n",
    "alpha = 0.05\n",
    "\n",
    "t_score = (x1 - x2)/((((n1-1)*s1**2 + (n2-1)*s2**2)/(n1+n2-2))/(1/n1 + 1/n2))**0.5\n",
    "print(\"t_score is \", t_score)\n",
    "print(\"Critical region is\", stats.t.ppf(alpha/2, df = n1+n2-2), \"and\", stats.t.ppf(1 - alpha/2, df = n1+n2-2))"
   ]
  },
  {
   "cell_type": "markdown",
   "id": "c10e7228",
   "metadata": {},
   "source": [
    "### We accept null hypothesis. So, a small price reduction is not enough to increase sales of product."
   ]
  },
  {
   "cell_type": "markdown",
   "id": "abd1ab27",
   "metadata": {},
   "source": [
    "### Problem statement 15"
   ]
  },
  {
   "cell_type": "markdown",
   "id": "c40d8413",
   "metadata": {},
   "source": [
    "Comparisons of two population proportions when the hypothesized difference is zero\n",
    "Carry out a two-tailed test of the equality of banks’ share of the car loan market in\n",
    "1980 and 1995.\n",
    "Population 1: 1980\n",
    "n1 = 1000\n",
    "x1 = 53\n",
    "p 1 = 0.53\n",
    "Population 2: 1985\n",
    "n2 = 100\n",
    "x2 = 43\n",
    "p 2= 0.53"
   ]
  },
  {
   "cell_type": "code",
   "execution_count": 9,
   "id": "c777076d",
   "metadata": {},
   "outputs": [
    {
     "name": "stdout",
     "output_type": "stream",
     "text": [
      "z_stat is 0.0\n",
      "Critical region is  -1.9599639845400545 and 1.9599639845400545\n"
     ]
    }
   ],
   "source": [
    "n1 = 1000\n",
    "x1 = 53\n",
    "p1 = 0.53\n",
    "\n",
    "n2 = 100\n",
    "x2 = 43\n",
    "p2 = 0.53\n",
    "\n",
    "p = (x1 + x2)/(n1 + n2)\n",
    "\n",
    "z_stat = (p1 - p2)/(p*(1-p)*(1/n1 + 1/n2))**0.5\n",
    "print(\"z_stat is\", z_stat)\n",
    "print(\"Critical region is \", norm.ppf(alpha/2), \"and\", -norm.ppf(alpha/2))"
   ]
  },
  {
   "cell_type": "markdown",
   "id": "9de80de2",
   "metadata": {},
   "source": [
    "### Null hypothesis can not be rejected at alpha = 5%"
   ]
  },
  {
   "cell_type": "markdown",
   "id": "de4c2583",
   "metadata": {},
   "source": [
    "### Problem statement 16"
   ]
  },
  {
   "cell_type": "markdown",
   "id": "3860a560",
   "metadata": {},
   "source": [
    "Carry out a one-tailed test to determine whether the population proportion of\n",
    "traveler’s check buyers who buy at least 2500 USD in checks when sweepstakes prizes\n",
    "are offered as at least 10% higher than the proportion of such buyers when no\n",
    "sweepstakes are on.\n",
    "Population 1: With sweepstakes\n",
    "n1 = 300\n",
    "x1 = 120\n",
    "p = 0.40\n",
    "Population 2: No sweepstakes n2 = 700\n",
    "x2 = 140\n",
    "p 2= 0.20"
   ]
  },
  {
   "cell_type": "code",
   "execution_count": 11,
   "id": "c36fd2d5",
   "metadata": {},
   "outputs": [
    {
     "name": "stdout",
     "output_type": "stream",
     "text": [
      "z_stat is 3.303749523611152\n",
      "Critical region is  1.6448536269514729\n"
     ]
    }
   ],
   "source": [
    "n1 = 300\n",
    "x1 = 120\n",
    "p1 = 0.40\n",
    "D = 0.10\n",
    "n2 = 700\n",
    "x2 = 140\n",
    "p2 = 0.20\n",
    "alpha = 0.05\n",
    "p = (x1 + x2)/(n1 + n2)\n",
    "\n",
    "z_stat = (p1 - p2 - 0.10)/(p*(1-p)*(1/n1 + 1/n2))**0.5\n",
    "print(\"z_stat is\", z_stat)\n",
    "print(\"Critical region is \", -norm.ppf(alpha))"
   ]
  },
  {
   "cell_type": "markdown",
   "id": "5a04f628",
   "metadata": {},
   "source": [
    "### Null hypothesis is rejected at 5% level of significance."
   ]
  },
  {
   "cell_type": "markdown",
   "id": "397d7b84",
   "metadata": {},
   "source": [
    "### Problem statement 17"
   ]
  },
  {
   "cell_type": "markdown",
   "id": "a1c70728",
   "metadata": {},
   "source": [
    "A die is thrown 132 times with the following results: Number turned up: 1, 2, 3, 4, 5, 6\n",
    "Frequency: 16, 20, 25, 14, 29, 28\n",
    "Is the die unbiased? Consider the degrees of freedom as p − 1"
   ]
  },
  {
   "cell_type": "code",
   "execution_count": 16,
   "id": "6949855c",
   "metadata": {},
   "outputs": [
    {
     "name": "stdout",
     "output_type": "stream",
     "text": [
      "Result is :  Power_divergenceResult(statistic=9.0, pvalue=0.1090641579497725)\n",
      "From the chisquare table at alpha = 0.05 and degree of freedom = 5, chi_stat is 11.070\n",
      "The null hypothesis is accepted. So, the die is unbiased.\n"
     ]
    }
   ],
   "source": [
    "\"Assuming the frequency of occurence of each face of die is equal.\"\n",
    "f_obs = [16,20,25,14,29,28]\n",
    "f_exp = [22,22,22,22,22,22]\n",
    "chi_result = stats.chisquare(f_obs, f_exp)\n",
    "print(\"Result is : \", chi_result)\n",
    "print(\"From the chisquare table at alpha = 0.05 and degree of freedom = 5, chi_stat is 11.070\")\n",
    "print(\"The null hypothesis is accepted. So, the die is unbiased.\")"
   ]
  },
  {
   "cell_type": "markdown",
   "id": "ff374644",
   "metadata": {},
   "source": [
    "### Problem statement 18"
   ]
  },
  {
   "attachments": {},
   "cell_type": "markdown",
   "id": "bbf022a6",
   "metadata": {},
   "source": [
    "In a certain town, there are about one million eligible voters. A simple random\n",
    "sample of 10,000 eligible voters was chosen to study the relationship between\n",
    "gender and participation in the last election. The results are summarized in the\n",
    "following 2X2 (read two by two) contingency table:\n",
    "\n",
    "We would want to check whether being a man or a woman (columns) is independent of\n",
    "having voted in the last election (rows). In other words, is “gender and voting independent”?"
   ]
  },
  {
   "cell_type": "code",
   "execution_count": 17,
   "id": "321b6c50",
   "metadata": {},
   "outputs": [
    {
     "name": "stdout",
     "output_type": "stream",
     "text": [
      "Chi Square value is 6.660455899328067\n",
      "Critical region with alpha=0.05 is 3.84\n",
      "We reject null hypothesis.It is not gender and voting independent\n"
     ]
    }
   ],
   "source": [
    "observed_voted_men=2792\n",
    "observed_voted_women=3591\n",
    "observed_not_voted_men=1486\n",
    "observed_not_voted_women=2131\n",
    "total_voted=2792+3591\n",
    "total_not_voted=1486+2131\n",
    "total_men=2792+1486\n",
    "total_women=3591+2131\n",
    "expected_voted_men=(total_voted*total_men)/10000\n",
    "expected_voted_women=(total_voted*total_women)/10000\n",
    "expected_not_voted_men=(total_not_voted*total_men)/10000\n",
    "expected_not_voted_women=(total_not_voted*total_women)/10000\n",
    "chisquare1=(((observed_voted_women-expected_voted_women)**2)/expected_voted_women)\n",
    "chisquare2=(((observed_voted_men-expected_voted_men)**2)/expected_voted_men)\n",
    "chisquare3=(((observed_not_voted_men-expected_not_voted_men)**2)/expected_not_voted_men)\n",
    "chisquare4=(((observed_not_voted_women-expected_not_voted_women)**2)/expected_not_voted_women)\n",
    "chisquare=chisquare1+chisquare2+chisquare3+chisquare4\n",
    "print(f\"Chi Square value is {chisquare}\")\n",
    "print(f\"Critical region with alpha=0.05 is 3.84\")\n",
    "print(\"We reject null hypothesis.It is not gender and voting independent\")"
   ]
  },
  {
   "cell_type": "markdown",
   "id": "6869d164",
   "metadata": {},
   "source": [
    "### Problem statement 19"
   ]
  },
  {
   "cell_type": "markdown",
   "id": "5beed880",
   "metadata": {},
   "source": [
    "A sample of 100 voters are asked which of four candidates they would vote for in an election. The number supporting each candidate is given below:\n",
    "Do the data suggest that all candidates are equally popular? [Chi-Square = 14.96,with 3 df, 𝑝 0.05 .]"
   ]
  },
  {
   "cell_type": "code",
   "execution_count": 18,
   "id": "565b9a72",
   "metadata": {},
   "outputs": [
    {
     "name": "stdout",
     "output_type": "stream",
     "text": [
      "Chi Square value is 14.959999999999999\n",
      "Critical region with 3df and alpha=0.05 is 7.82\n",
      "We reject null hypothesis. All candidates are not equally popular\n"
     ]
    }
   ],
   "source": [
    "#print(np.mean([41,19,24,16]))\n",
    "obs=[41,19,24,16]\n",
    "exp=[25,25,25,25]\n",
    "result=stats.chisquare(obs,exp)\n",
    "print(f\"Chi Square value is {result[0]}\")\n",
    "print(f\"Critical region with 3df and alpha=0.05 is 7.82\")\n",
    "print(\"We reject null hypothesis. All candidates are not equally popular\")"
   ]
  },
  {
   "cell_type": "markdown",
   "id": "5dc112b6",
   "metadata": {},
   "source": [
    "### Problem statement 20"
   ]
  },
  {
   "cell_type": "markdown",
   "id": "2650a1b0",
   "metadata": {},
   "source": [
    "Children of three ages are asked to indicate their preference for three photographs of\n",
    "adults. Do the data suggest that there is a significant relationship between age and\n",
    "photograph preference? What is wrong with this study? [Chi-Square = 29.6, with 4\n",
    "df: p < 0.05]."
   ]
  },
  {
   "cell_type": "code",
   "execution_count": 21,
   "id": "aa673e6f",
   "metadata": {},
   "outputs": [
    {
     "name": "stdout",
     "output_type": "stream",
     "text": [
      "Chi Square value is 29.603174603174608\n",
      "Critical region with 4df and alpha=0.001 is 18.47\n",
      "We reject null hypothesis.There is significant relationship between age and photograph preference\n"
     ]
    }
   ],
   "source": [
    "from scipy.stats import chi2_contingency\n",
    "\n",
    "obs=([[18,22,20],[2,28,40],[20,10,40]])\n",
    "\n",
    "result= chi2_contingency(obs)\n",
    "print(f\"Chi Square value is {result[0]}\")\n",
    "print(f\"Critical region with 4df and alpha=0.001 is 18.47\")\n",
    "print(\"We reject null hypothesis.There is significant relationship between age and photograph preference\")"
   ]
  },
  {
   "cell_type": "markdown",
   "id": "9e7f11af",
   "metadata": {},
   "source": [
    "### Problem statement 21"
   ]
  },
  {
   "cell_type": "markdown",
   "id": "f53c9d9d",
   "metadata": {},
   "source": [
    "A study of conformity using the Asch paradigm involved two conditions: one where\n",
    "one confederate supported the true judgement and another where no confederate\n",
    "gave the correct response.\n",
    "\n",
    "Is there a significant difference between the \"support\" and \"no support\" conditions in the\n",
    "frequency with which individuals are likely to conform? [Chi-Square = 19.87, with 1 df:\n",
    "p < 0.05]."
   ]
  },
  {
   "cell_type": "code",
   "execution_count": 22,
   "id": "9b033645",
   "metadata": {},
   "outputs": [
    {
     "name": "stdout",
     "output_type": "stream",
     "text": [
      "Chi Square value is 18.10344827586207\n",
      "Critical region with 1df and alpha=0.001 is 10.83\n"
     ]
    }
   ],
   "source": [
    "obs=np.array([[18,40],[32,10]])\n",
    "result=chi2_contingency(obs)\n",
    "print(f\"Chi Square value is {result[0]}\")\n",
    "print(f\"Critical region with 1df and alpha=0.001 is 10.83\")"
   ]
  },
  {
   "cell_type": "markdown",
   "id": "9426967b",
   "metadata": {},
   "source": [
    "#### Null hypothesis is rejected. So, there is significant difference between support and no support condition in the frequency with which individuals are likely to conform"
   ]
  },
  {
   "cell_type": "markdown",
   "id": "fb8de83a",
   "metadata": {},
   "source": [
    "### Problem statement 22"
   ]
  },
  {
   "cell_type": "markdown",
   "id": "67b39012",
   "metadata": {},
   "source": [
    "We want to test whether short people differ with respect to their leadership qualities\n",
    "(Genghis Khan, Adolf Hitler and Napoleon were all stature-deprived, and how many midget\n",
    "MP's are there?) The following table shows the frequencies with which 43 short people and\n",
    "52 tall people were categorized as \"leaders\", \"followers\" or as \"unclassifiable\". Is there a\n",
    "relationship between height and leadership qualities?\n",
    "[Chi-Square = 10.71, with 2 df: p < 0.01]."
   ]
  },
  {
   "cell_type": "code",
   "execution_count": 23,
   "id": "c54910ed",
   "metadata": {},
   "outputs": [
    {
     "name": "stdout",
     "output_type": "stream",
     "text": [
      "Chi Square value is 10.712198008709638\n",
      "Critical region with 2df and alpha=0.001 is 13.82\n",
      "We accept null hypothesis.there is no relationship between height and leadership qualities\n"
     ]
    }
   ],
   "source": [
    "obs=([[12,32],[22,14],[9,6]])\n",
    "result=chi2_contingency(obs)\n",
    "print(f\"Chi Square value is {result[0]}\")\n",
    "print(f\"Critical region with 2df and alpha=0.001 is 13.82\")\n",
    "print(\"We accept null hypothesis.there is no relationship between height and leadership qualities\")"
   ]
  },
  {
   "cell_type": "markdown",
   "id": "d8b13cf5",
   "metadata": {},
   "source": [
    "### Problem statement 23"
   ]
  },
  {
   "cell_type": "markdown",
   "id": "e4523ac4",
   "metadata": {},
   "source": [
    "Each respondent in the Current Population Survey of March 1993 was classified as employed, unemployed, or outside the labor force. The results for men in California age 35- 44 can be cross-tabulated by marital status, as follows:  Men of different marital status seem to have different distributions of labor force status. Or is this just chance variation? (you may assume the table results from a simple random sample.)"
   ]
  },
  {
   "cell_type": "code",
   "execution_count": 24,
   "id": "99450bff",
   "metadata": {},
   "outputs": [
    {
     "name": "stdout",
     "output_type": "stream",
     "text": [
      "Chi Square value is 31.61310319407798\n",
      "Critical region with 4df and alpha=0.001 is 18.47\n",
      "We reject null hypothesis at alpha=0.001 .there is relationship between martial status and employment status\n"
     ]
    }
   ],
   "source": [
    "obs = np.array([[679,103,114], [63,10,20],[42,18,25]])\n",
    "result=chi2_contingency(obs)\n",
    "print(f\"Chi Square value is {result[0]}\")\n",
    "print(f\"Critical region with 4df and alpha=0.001 is 18.47\")\n",
    "print(\"We reject null hypothesis at alpha=0.001 .there is relationship between martial status and employment status\")"
   ]
  },
  {
   "cell_type": "code",
   "execution_count": null,
   "id": "1c8d6d9a",
   "metadata": {},
   "outputs": [],
   "source": []
  }
 ],
 "metadata": {
  "kernelspec": {
   "display_name": "Python 3 (ipykernel)",
   "language": "python",
   "name": "python3"
  },
  "language_info": {
   "codemirror_mode": {
    "name": "ipython",
    "version": 3
   },
   "file_extension": ".py",
   "mimetype": "text/x-python",
   "name": "python",
   "nbconvert_exporter": "python",
   "pygments_lexer": "ipython3",
   "version": "3.9.13"
  }
 },
 "nbformat": 4,
 "nbformat_minor": 5
}
