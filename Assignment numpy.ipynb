{
 "cells": [
  {
   "cell_type": "markdown",
   "id": "0f535902",
   "metadata": {},
   "source": [
    "## Write a function so that the columns of the output matrix are powers of the input vector.The order of the powers is determined by the increasing boolean argument. Specifically, when increasing is False, the i-th output column is the input vector raised element-wise to the power of N - i - 1. HINT: Such a matrix with a geometric progression in each row is named for Alexandre-Theophile Vandermonde."
   ]
  },
  {
   "cell_type": "code",
   "execution_count": 1,
   "id": "6e378fb2",
   "metadata": {},
   "outputs": [],
   "source": [
    "import numpy as np"
   ]
  },
  {
   "cell_type": "code",
   "execution_count": 18,
   "id": "2ba072a0",
   "metadata": {},
   "outputs": [],
   "source": [
    "def vander_matrix(ip, N, increasing = False):\n",
    "    if not increasing:\n",
    "        op_mat = np.array([x**(N-1-i) for x in ip for i in range(N)]).reshape(ip.size,N)\n",
    "    elif increasing:\n",
    "        op_mat = np.array([x**i for x in ip for i in range(N)]).reshape(ip.size, N)\n",
    "    return op_mat"
   ]
  },
  {
   "cell_type": "code",
   "execution_count": 22,
   "id": "913e255f",
   "metadata": {},
   "outputs": [],
   "source": [
    "ip = np.array([1,2,3,4,5])\n",
    "\n",
    "van_mat_inc = vander_matrix(ip, 5, True)\n",
    "van_mat_dec = vander_matrix(ip, 5, False)"
   ]
  },
  {
   "cell_type": "code",
   "execution_count": 34,
   "id": "6cf32720",
   "metadata": {},
   "outputs": [
    {
     "name": "stdout",
     "output_type": "stream",
     "text": [
      "[1 2 3 4 5]\n",
      "Vander Matrix in increasing order :\n",
      "[[  1   1   1   1   1]\n",
      " [  1   2   4   8  16]\n",
      " [  1   3   9  27  81]\n",
      " [  1   4  16  64 256]\n",
      " [  1   5  25 125 625]]\n",
      "Vander Matrix in descending order :\n",
      "[[  1   1   1   1   1]\n",
      " [ 16   8   4   2   1]\n",
      " [ 81  27   9   3   1]\n",
      " [256  64  16   4   1]\n",
      " [625 125  25   5   1]]\n"
     ]
    }
   ],
   "source": [
    "print(ip)\n",
    "print(\"Vander Matrix in increasing order :\")\n",
    "print(van_mat_inc)\n",
    "print(\"Vander Matrix in descending order :\")\n",
    "print(van_mat_dec)"
   ]
  },
  {
   "cell_type": "markdown",
   "id": "88db7ae2",
   "metadata": {},
   "source": [
    "## Given a sequence of n values x1, x2, ..., xn and a window size k>0, the k-th moving average of\n",
    "## the given sequence is defined as follows:\n",
    "## The moving average sequence has n-k+1 elements as shown below.\n",
    "## The moving averages with k=4 of a ten-value sequence (n=10) is shown below\n",
    "## i 1 2 3 4 5 6 7 8 9 10\n",
    "## ===== == == == == == == == == == ==\n",
    "## Input 10 20 30 40 50 60 70 80 90 100\n",
    "## y1 25 = (10+20+30+40)/4\n",
    "## y2 35 = (20+30+40+50)/4\n",
    "## y3 45 = (30+40+50+60)/4\n",
    "## y4 55 = (40+50+60+70)/4\n",
    "## y5 65 = (50+60+70+80)/4\n",
    "## y6 75 = (60+70+80+90)/4\n",
    "## y7 85 = (70+80+90+100)/4\n",
    "## Thus, the moving average sequence has n-k+1=10-4+1=7 values.\n",
    "## Question: Write a function to find moving average in an array over a window:\n",
    "## Test it over [3, 5, 7, 2, 8, 10, 11, 65, 72, 81, 99, 100, 150] and window of 3."
   ]
  },
  {
   "cell_type": "code",
   "execution_count": 37,
   "id": "7289a6de",
   "metadata": {},
   "outputs": [],
   "source": [
    "def moving_average(a,n = 3):\n",
    "    x = np.cumsum(a, dtype = float)\n",
    "    x[n:] = x[n:] - x[:-n]\n",
    "    return x[n-1:]/n"
   ]
  },
  {
   "cell_type": "code",
   "execution_count": 38,
   "id": "44ac2a6b",
   "metadata": {},
   "outputs": [
    {
     "name": "stdout",
     "output_type": "stream",
     "text": [
      "[  5.           4.66666667   5.66666667   6.66666667   9.66666667\n",
      "  28.66666667  49.33333333  72.66666667  84.          93.33333333\n",
      " 116.33333333]\n"
     ]
    }
   ],
   "source": [
    "x = [3, 5, 7, 2, 8, 10, 11, 65, 72, 81, 99, 100, 150]\n",
    "print(moving_average(x, n=3))"
   ]
  },
  {
   "cell_type": "code",
   "execution_count": null,
   "id": "db9ff1f1",
   "metadata": {},
   "outputs": [],
   "source": []
  }
 ],
 "metadata": {
  "kernelspec": {
   "display_name": "Python 3 (ipykernel)",
   "language": "python",
   "name": "python3"
  },
  "language_info": {
   "codemirror_mode": {
    "name": "ipython",
    "version": 3
   },
   "file_extension": ".py",
   "mimetype": "text/x-python",
   "name": "python",
   "nbconvert_exporter": "python",
   "pygments_lexer": "ipython3",
   "version": "3.9.7"
  }
 },
 "nbformat": 4,
 "nbformat_minor": 5
}
