{
 "cells": [
  {
   "cell_type": "code",
   "execution_count": 3,
   "id": "25ca1b3f",
   "metadata": {},
   "outputs": [],
   "source": [
    "#1.1 Write a Python Program(with class concepts) to find the area of the triangle using the below formula.\n",
    "# area = (s*(s-a)*(s-b)*(s-c)) ** 0.5\n",
    "#Function to take the length of the sides of triangle from user should be defined in the parent\n",
    "#class and function to calculate the area should be defined in subclass."
   ]
  },
  {
   "cell_type": "code",
   "execution_count": 19,
   "id": "f3c3e3ea",
   "metadata": {},
   "outputs": [
    {
     "name": "stdout",
     "output_type": "stream",
     "text": [
      "Enter side1: 3\n",
      "Enter side2: 4\n",
      "Enter side3: 6\n",
      "Area of triangle is:  5.332682251925386\n"
     ]
    }
   ],
   "source": [
    "class Triangle():                      # Parent class\n",
    "    def __init__(self, a, b, c):\n",
    "        self.a = a\n",
    "        self.b = b\n",
    "        self.c = c\n",
    "    \n",
    "a = float(input(\"Enter side1: \"))\n",
    "b = float(input(\"Enter side2: \"))\n",
    "c = float(input(\"Enter side3: \"))\n",
    "\n",
    "\n",
    "class Area(Triangle):                  # subclass/Childclass\n",
    "\n",
    "    def __init__(self, a, b, c):\n",
    "        Triangle.__init__(self, a, b, c)\n",
    "        \n",
    "    def calcarea(self):\n",
    "        s = (a+b+c)/2\n",
    "        return((s*(s-a)*(s-b)*(s-c)) ** 0.5)\n",
    "    \n",
    "myarea = Area(a, b, c) \n",
    "print(\"Area of triangle is: \", myarea.calcarea())"
   ]
  },
  {
   "cell_type": "code",
   "execution_count": 12,
   "id": "0426136f",
   "metadata": {},
   "outputs": [],
   "source": [
    "# 1.2 Write a function filter_long_words() that takes a list of words and an integer n and returns\n",
    "# the list of words that are longer than n."
   ]
  },
  {
   "cell_type": "code",
   "execution_count": 21,
   "id": "cbb8e880",
   "metadata": {},
   "outputs": [],
   "source": [
    "def filter_long_words(lst,n):\n",
    "    return [word for word in lst if len(word) > n]"
   ]
  },
  {
   "cell_type": "code",
   "execution_count": 22,
   "id": "43bb656b",
   "metadata": {},
   "outputs": [
    {
     "data": {
      "text/plain": [
       "['abdgr', 'surhdu', 'sdinqv']"
      ]
     },
     "execution_count": 22,
     "metadata": {},
     "output_type": "execute_result"
    }
   ],
   "source": [
    "result = filter_long_words(['abdgr', 'surhdu', 'edf', 'rf', 'sdinqv'], 3)\n",
    "result"
   ]
  },
  {
   "cell_type": "code",
   "execution_count": 1,
   "id": "fcc9d00e",
   "metadata": {},
   "outputs": [],
   "source": [
    "# 2.1 Write a Python program using function concept that maps list of words into a list of integers\n",
    "#representing the lengths of the corresponding words.\n",
    "#Hint: If a list [ ab,cde,erty] is passed on to the python function output should come as [2,3,4]\n",
    "#Here 2,3 and 4 are the lengths of the words in the list.\n"
   ]
  },
  {
   "cell_type": "code",
   "execution_count": 2,
   "id": "1bbb9672",
   "metadata": {},
   "outputs": [],
   "source": [
    "def len_words(a):\n",
    "    lst_int = []\n",
    "    for n in a:\n",
    "        lst_int.append(len(n))\n",
    "    return lst_int"
   ]
  },
  {
   "cell_type": "code",
   "execution_count": 3,
   "id": "1067573d",
   "metadata": {},
   "outputs": [
    {
     "data": {
      "text/plain": [
       "[2, 3, 4]"
      ]
     },
     "execution_count": 3,
     "metadata": {},
     "output_type": "execute_result"
    }
   ],
   "source": [
    "len_words(['ab','cde','erty'])"
   ]
  },
  {
   "cell_type": "code",
   "execution_count": 4,
   "id": "4c3ca7e7",
   "metadata": {},
   "outputs": [],
   "source": [
    "# 2.2 Write a Python function which takes a character (i.e. a string of length 1) and returns True if\n",
    "#it is a vowel, False otherwise."
   ]
  },
  {
   "cell_type": "code",
   "execution_count": 5,
   "id": "980690d2",
   "metadata": {},
   "outputs": [],
   "source": [
    "def a_vowel(a):\n",
    "    if a.lower() in ['a','e','i','o','u']:\n",
    "        return True\n",
    "    else:\n",
    "        return False"
   ]
  },
  {
   "cell_type": "code",
   "execution_count": 7,
   "id": "5a846e1c",
   "metadata": {},
   "outputs": [
    {
     "data": {
      "text/plain": [
       "True"
      ]
     },
     "execution_count": 7,
     "metadata": {},
     "output_type": "execute_result"
    }
   ],
   "source": [
    "a_vowel('e')"
   ]
  },
  {
   "cell_type": "code",
   "execution_count": 8,
   "id": "8a9bcd4f",
   "metadata": {},
   "outputs": [
    {
     "data": {
      "text/plain": [
       "False"
      ]
     },
     "execution_count": 8,
     "metadata": {},
     "output_type": "execute_result"
    }
   ],
   "source": [
    "a_vowel('B')"
   ]
  },
  {
   "cell_type": "code",
   "execution_count": null,
   "id": "e9c49079",
   "metadata": {},
   "outputs": [],
   "source": []
  }
 ],
 "metadata": {
  "kernelspec": {
   "display_name": "Python 3 (ipykernel)",
   "language": "python",
   "name": "python3"
  },
  "language_info": {
   "codemirror_mode": {
    "name": "ipython",
    "version": 3
   },
   "file_extension": ".py",
   "mimetype": "text/x-python",
   "name": "python",
   "nbconvert_exporter": "python",
   "pygments_lexer": "ipython3",
   "version": "3.9.7"
  }
 },
 "nbformat": 4,
 "nbformat_minor": 5
}
