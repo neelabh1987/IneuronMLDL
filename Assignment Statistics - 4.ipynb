{
 "cells": [
  {
   "cell_type": "markdown",
   "id": "48ecab31",
   "metadata": {},
   "source": [
    "### Problem statement 1"
   ]
  },
  {
   "cell_type": "markdown",
   "id": "ff6c5370",
   "metadata": {},
   "source": [
    "Is gender independent of education level? A random sample of 395 people were\n",
    "surveyed and each person was asked to report the highest education level they\n",
    "obtained. The data that resulted from the survey is summarized in the following table:\n",
    "       High School Bachelors Masters Ph.d. Total\n",
    "Female     60         54       46     41    201\n",
    "Male       40         44       53     57    194\n",
    "Total     100         98       99     98    395\n",
    "Question: Are gender and education level dependent at 5% level of significance? In\n",
    "other words, given the data collected above, is there a relationship between the\n",
    "gender of an individual and the level of education that they have obtained?\n"
   ]
  },
  {
   "cell_type": "code",
   "execution_count": 19,
   "id": "3e519b0e",
   "metadata": {},
   "outputs": [],
   "source": [
    "import math\n",
    "import numpy as np\n",
    "from scipy.stats import norm"
   ]
  },
  {
   "cell_type": "code",
   "execution_count": 27,
   "id": "9f6dfa8e",
   "metadata": {},
   "outputs": [
    {
     "name": "stdout",
     "output_type": "stream",
     "text": [
      "The value of chisquare is:  8.005996753802016\n"
     ]
    }
   ],
   "source": [
    "# Expected count of categorical variables = (row total)*(column total)/(sample size)\n",
    "# ec_female_highschool = (201*100)/395 = 50.886\n",
    "# ec_female_bachelors = (201*98)/395 = 49.868\n",
    "# ec_female_masters = (201*99)/395 = 50.377\n",
    "# ec_female_phd = (201*98)/395 = 49.868\n",
    "\n",
    "# ec_male_highschool = (194*100)/395 = 49.113\n",
    "# ec_male_bachelors = (194*98)/395 = 48.131\n",
    "# ec_male_masters = (194*99)/395 = 48.622\n",
    "# ec_male_phd = (194*98)/395 = 48.131\n",
    "\n",
    "chisquare = ((60 - 50.886)**2)/50.886 + ((54 - 49.868)**2)/49.868 + ((46 - 50.377)**2)/50.377 + ((41 - 49.868)**2)/49.868 + ((40 -49.113)**2)/49.113 + ((44 - 48.131)**2)/48.131 + ((53 - 48.622)**2)/48.622 + ((57 - 48.131)**2)/48.131\n",
    "\n",
    "print(\"The value of chisquare is: \", chisquare)"
   ]
  },
  {
   "cell_type": "markdown",
   "id": "bb74d460",
   "metadata": {},
   "source": [
    "### From the chisquare table at  5% level of significance and 3 degrees of freedom (rows - 1)*(columns - 1), the critical value of chisquare is 7.815. Since the chisquare stats value is greater, so null hypothesis is rejected. So, there is a relationship between gender & level of education."
   ]
  },
  {
   "cell_type": "markdown",
   "id": "3d691b8e",
   "metadata": {},
   "source": [
    "### Problem statement 2"
   ]
  },
  {
   "cell_type": "markdown",
   "id": "b6a45245",
   "metadata": {},
   "source": [
    "Using the following data, perform a oneway analysis of variance using α=.05. Write\n",
    "up the results in APA format.\n",
    "\n",
    "[Group1: 51, 45, 33, 45, 67]\n",
    "[Group2: 23, 43, 23, 43, 45]\n",
    "[Group3: 56, 76, 74, 87, 56]"
   ]
  },
  {
   "cell_type": "code",
   "execution_count": 29,
   "id": "4688a764",
   "metadata": {},
   "outputs": [
    {
     "name": "stdout",
     "output_type": "stream",
     "text": [
      "F Statistic value 9.747205503009463 , p-value 0.0030597541434430556\n",
      "True\n"
     ]
    }
   ],
   "source": [
    "from scipy import stats\n",
    "Group1 = [51, 45, 33, 45, 67]\n",
    "Group2 = [23, 43, 23, 43, 45]\n",
    "Group3 = [56, 76, 74, 87, 56]\n",
    "\n",
    "# Perform the ANOVA\n",
    "statistic, pvalue = stats.f_oneway(Group1,Group2,Group3)\n",
    "print(\"F Statistic value {} , p-value {}\".format(statistic,pvalue))\n",
    "if pvalue < 0.05:\n",
    "    print('True')\n",
    "else:\n",
    "    print('False')"
   ]
  },
  {
   "cell_type": "markdown",
   "id": "8af22d5a",
   "metadata": {},
   "source": [
    "### Since p-value is less than alpha, means of groups are significantly different from each other."
   ]
  },
  {
   "cell_type": "markdown",
   "id": "6698c084",
   "metadata": {},
   "source": [
    "### Problem statement 3"
   ]
  },
  {
   "cell_type": "markdown",
   "id": "1e49e351",
   "metadata": {},
   "source": [
    "Calculate F Test for given 10, 20, 30, 40, 50 and 5,10,15, 20, 25.\n",
    "For 10, 20, 30, 40, 50:"
   ]
  },
  {
   "cell_type": "code",
   "execution_count": 32,
   "id": "369a9f9e",
   "metadata": {},
   "outputs": [
    {
     "name": "stdout",
     "output_type": "stream",
     "text": [
      "F_test is:  4.0\n"
     ]
    }
   ],
   "source": [
    "import statistics\n",
    "\n",
    "x1 = [10,20,30,40,50]\n",
    "x2 = [5,10,15,20,25]\n",
    "v1 = statistics.variance(x1)\n",
    "v2 = statistics.variance(x2)\n",
    "F_test = v1/v2\n",
    "print(\"F_test is: \", F_test)"
   ]
  },
  {
   "cell_type": "code",
   "execution_count": null,
   "id": "7ed5afa3",
   "metadata": {},
   "outputs": [],
   "source": []
  }
 ],
 "metadata": {
  "kernelspec": {
   "display_name": "Python 3 (ipykernel)",
   "language": "python",
   "name": "python3"
  },
  "language_info": {
   "codemirror_mode": {
    "name": "ipython",
    "version": 3
   },
   "file_extension": ".py",
   "mimetype": "text/x-python",
   "name": "python",
   "nbconvert_exporter": "python",
   "pygments_lexer": "ipython3",
   "version": "3.9.13"
  }
 },
 "nbformat": 4,
 "nbformat_minor": 5
}
