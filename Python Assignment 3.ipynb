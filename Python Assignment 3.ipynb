{
 "cells": [
  {
   "cell_type": "code",
   "execution_count": 1,
   "id": "09b7a8dc",
   "metadata": {},
   "outputs": [],
   "source": [
    "# Write a Python Program to implement your own myreduce() function which works exactly\n",
    "#like Python's built-in function reduce()\n",
    "\n",
    "def myreduce(anyfunc, sequence):\n",
    "    result = sequence[0]        #get first item in sequence & assign it to result\n",
    "    for item in sequence[1:]:   #iterate over remaining items in sequence & apply reduction function\n",
    "        result = anyfunc(result, item)\n",
    "    return result\n",
    "        "
   ]
  },
  {
   "cell_type": "code",
   "execution_count": 2,
   "id": "1d26696b",
   "metadata": {},
   "outputs": [
    {
     "data": {
      "text/plain": [
       "20"
      ]
     },
     "execution_count": 2,
     "metadata": {},
     "output_type": "execute_result"
    }
   ],
   "source": [
    "ans = myreduce(lambda x, y : x + y, [2,3,4,5,6])\n",
    "ans"
   ]
  },
  {
   "cell_type": "code",
   "execution_count": 3,
   "id": "53c23901",
   "metadata": {},
   "outputs": [],
   "source": [
    "#Write a Python program to implement your own myfilter() function which works exactly\n",
    "#like Python's built-in function filter()\n",
    "\n",
    "def myfilter(func, sequence):\n",
    "    for item in sequence:\n",
    "        if func(item) == True:\n",
    "            print(item, end = \" \")"
   ]
  },
  {
   "cell_type": "code",
   "execution_count": 5,
   "id": "adfc5aed",
   "metadata": {},
   "outputs": [
    {
     "name": "stdout",
     "output_type": "stream",
     "text": [
      "1 3 5 13 "
     ]
    }
   ],
   "source": [
    "seq = [0, 1, 2, 3, 5, 8, 13]\n",
    "result = myfilter(lambda x: x % 2 != 0, seq) # filter even numbers\n",
    "result"
   ]
  },
  {
   "cell_type": "code",
   "execution_count": 29,
   "id": "63229539",
   "metadata": {},
   "outputs": [
    {
     "data": {
      "text/plain": [
       "['x', 'xx', 'xxx', 'xxxx', 'y', 'yy', 'yyy', 'yyyy', 'z', 'zz', 'zzz', 'zzzz']"
      ]
     },
     "execution_count": 29,
     "metadata": {},
     "output_type": "execute_result"
    }
   ],
   "source": [
    "# Write List comprehensions to produce the following Lists\n",
    "#1. ['x', 'xx', 'xxx', 'xxxx', 'y', 'yy', 'yyy', 'yyyy', 'z', 'zz', 'zzz', 'zzzz']\n",
    "lst = ['x','y','z']\n",
    "pattern = []\n",
    "[pattern.append(i*j) for i in lst for j in range(1,5)]\n",
    "pattern"
   ]
  },
  {
   "cell_type": "code",
   "execution_count": 27,
   "id": "6803fcb8",
   "metadata": {},
   "outputs": [
    {
     "data": {
      "text/plain": [
       "['x', 'y', 'z', 'xx', 'yy', 'zz', 'xxx', 'yyy', 'zzz', 'xxxx', 'yyyy', 'zzzz']"
      ]
     },
     "execution_count": 27,
     "metadata": {},
     "output_type": "execute_result"
    }
   ],
   "source": [
    "#2. ['x', 'y', 'z', 'xx', 'yy', 'zz', 'xxx', 'yyy', 'zzz', 'xxxx', 'yyyy', 'zzzz']\n",
    "\n",
    "\n",
    "lst = ['x','y','z']\n",
    "[j*i for i in range(1,5) for j in lst]       "
   ]
  },
  {
   "cell_type": "code",
   "execution_count": 33,
   "id": "0b76c29f",
   "metadata": {},
   "outputs": [
    {
     "data": {
      "text/plain": [
       "[[2], [3], [4], [3], [4], [5], [4], [5], [6]]"
      ]
     },
     "execution_count": 33,
     "metadata": {},
     "output_type": "execute_result"
    }
   ],
   "source": [
    "#3. [[2], [3], [4], [3], [4], [5], [4], [5], [6]]\n",
    "\n",
    "lst = []\n",
    "input_lst = [2,3,4]\n",
    "[[item+m] for item in input_lst for m in range(0,3)]"
   ]
  },
  {
   "cell_type": "code",
   "execution_count": 40,
   "id": "12dd0f6c",
   "metadata": {},
   "outputs": [
    {
     "data": {
      "text/plain": [
       "[[2, 3, 4, 5], [3, 4, 5, 6], [4, 5, 6, 7], [5, 6, 7, 8]]"
      ]
     },
     "execution_count": 40,
     "metadata": {},
     "output_type": "execute_result"
    }
   ],
   "source": [
    "#4 [[2, 3, 4, 5], [3, 4, 5, 6],[4, 5, 6, 7], [5, 6, 7, 8]]\n",
    "\n",
    "lst = []\n",
    "input_lst = [1,2,3,4]\n",
    "[[item + num for item in input_lst] for num in range(1,5)]"
   ]
  },
  {
   "cell_type": "code",
   "execution_count": 45,
   "id": "70794ca4",
   "metadata": {},
   "outputs": [
    {
     "data": {
      "text/plain": [
       "[(1, 1), (2, 1), (3, 1), (1, 2), (2, 2), (3, 2), (1, 3), (2, 3), (3, 3)]"
      ]
     },
     "execution_count": 45,
     "metadata": {},
     "output_type": "execute_result"
    }
   ],
   "source": [
    "#5 [(1, 1), (2, 1), (3, 1), (1, 2), (2, 2), (3, 2), (1, 3), (2, 3), (3, 3)]\n",
    "\n",
    "input_lst = [1,2,3]\n",
    "[(item, num) for num in range(1,4) for item in input_lst]"
   ]
  },
  {
   "cell_type": "code",
   "execution_count": null,
   "id": "20efc70f",
   "metadata": {},
   "outputs": [],
   "source": []
  }
 ],
 "metadata": {
  "kernelspec": {
   "display_name": "Python 3 (ipykernel)",
   "language": "python",
   "name": "python3"
  },
  "language_info": {
   "codemirror_mode": {
    "name": "ipython",
    "version": 3
   },
   "file_extension": ".py",
   "mimetype": "text/x-python",
   "name": "python",
   "nbconvert_exporter": "python",
   "pygments_lexer": "ipython3",
   "version": "3.9.7"
  }
 },
 "nbformat": 4,
 "nbformat_minor": 5
}
