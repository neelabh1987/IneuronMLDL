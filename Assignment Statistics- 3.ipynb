{
 "cells": [
  {
   "cell_type": "markdown",
   "id": "fb503215",
   "metadata": {},
   "source": [
    "### Problem Statement 1"
   ]
  },
  {
   "cell_type": "markdown",
   "id": "d316e4fa",
   "metadata": {},
   "source": [
    "Blood glucose levels for obese patients have a mean of 100 with a standard deviation of\n",
    "15. A researcher thinks that a diet high in raw cornstarch will have a positive effect on\n",
    "blood glucose levels. A sample of 36 patients who have tried the raw cornstarch diet\n",
    "have a mean glucose level of 108. Test the hypothesis that the raw cornstarch had an\n",
    "effect or not."
   ]
  },
  {
   "cell_type": "code",
   "execution_count": 1,
   "id": "e7afc76d",
   "metadata": {},
   "outputs": [],
   "source": [
    "import numpy as np\n",
    "from scipy.stats import norm\n",
    "import math"
   ]
  },
  {
   "cell_type": "code",
   "execution_count": 2,
   "id": "7c051a7e",
   "metadata": {},
   "outputs": [
    {
     "name": "stdout",
     "output_type": "stream",
     "text": [
      "z_stat is:  3.2\n",
      "Critical region is :  -1.9599639845400545 and 1.9599639845400545\n"
     ]
    }
   ],
   "source": [
    "p_mean = 100\n",
    "p_std = 15\n",
    "n = 36\n",
    "s_mean = 108\n",
    "alpha = 0.05\n",
    "SE = p_std/(n)**0.5\n",
    "z_stat = (s_mean - p_mean)/SE\n",
    "print(\"z_stat is: \", z_stat)\n",
    "print(\"Critical region is : \", norm.ppf(alpha/2), \"and\", -norm.ppf(alpha/2))"
   ]
  },
  {
   "cell_type": "markdown",
   "id": "b4369a82",
   "metadata": {},
   "source": [
    "### Null hypothesis is rejected as Z_stat lies in the critical region at 5% level of significance. So, raw cornstarch has an effect on blood glucose level."
   ]
  },
  {
   "cell_type": "markdown",
   "id": "ff5e8f8b",
   "metadata": {},
   "source": [
    "### Problem statement 2"
   ]
  },
  {
   "cell_type": "markdown",
   "id": "f36b3590",
   "metadata": {},
   "source": [
    "In one state, 52% of the voters are Republicans, and 48% are Democrats. In a second\n",
    "state, 47% of the voters are Republicans, and 53% are Democrats. Suppose a simple\n",
    "random sample of 100 voters are surveyed from each state.\n",
    "What is the probability that the survey will show a greater percentage of Republican\n",
    "voters in the second state than in the first state?"
   ]
  },
  {
   "cell_type": "code",
   "execution_count": 4,
   "id": "050c284e",
   "metadata": {},
   "outputs": [
    {
     "name": "stdout",
     "output_type": "stream",
     "text": [
      "z_score is:  -0.7080278164104207\n"
     ]
    }
   ],
   "source": [
    "n1 = 100\n",
    "n2 = 100\n",
    "R1 = 0.52            #Republicans from state 1\n",
    "D1 = 0.48            #Democrats from state 1\n",
    "R2 = 0.47            #Republicans from state 2\n",
    "D2 = 0.53            #Democrats from state 2\n",
    "\n",
    "# Probability of R1 > R2\n",
    "std = Standard_deviation = math.sqrt((R1*D1)/n1 + (R2*D2)/n2)\n",
    "# Mean difference of the number of republicans in both states = 0.52 - 0.47 = 0.05\n",
    "mu = 0.05\n",
    "# Difference should be less than 0 for greater percentage of Republican voters in the second  state than in the first state\n",
    "# Hence, x = 0\n",
    "x = 0\n",
    "z_score = (x - mu)/std\n",
    "z_score = (0 - 0.05)/std\n",
    "print(\"z_score is: \", z_score)"
   ]
  },
  {
   "cell_type": "markdown",
   "id": "e68d3d7d",
   "metadata": {},
   "source": [
    "### From Z score table -0.708 refers to 0.24\n",
    "### Hence 0.24 is the probability that the survey will show a greater percentage of Republican voters in the second  state than in the first state\n",
    "\n"
   ]
  },
  {
   "cell_type": "markdown",
   "id": "cab9225c",
   "metadata": {},
   "source": [
    "### Problem statement 3"
   ]
  },
  {
   "cell_type": "markdown",
   "id": "652ac0a4",
   "metadata": {},
   "source": [
    "You take the SAT and score 1100. The mean score for the SAT is 1026 and the standard\n",
    "deviation is 209. How well did you score on the test compared to the average test taker?"
   ]
  },
  {
   "cell_type": "code",
   "execution_count": 5,
   "id": "ea8b7dde",
   "metadata": {},
   "outputs": [
    {
     "name": "stdout",
     "output_type": "stream",
     "text": [
      "z_score is:  0.35406698564593303\n"
     ]
    }
   ],
   "source": [
    "x = 1100\n",
    "mu = 1026\n",
    "std = 209\n",
    "z_score = (x - mu)/std\n",
    "print(\"z_score is: \", z_score)"
   ]
  },
  {
   "cell_type": "code",
   "execution_count": 6,
   "id": "abe5c2d3",
   "metadata": {},
   "outputs": [
    {
     "name": "stdout",
     "output_type": "stream",
     "text": [
      "Range of first standard deviation:  817 and 1235\n"
     ]
    }
   ],
   "source": [
    "print(\"Range of first standard deviation: \", mu-std, \"and\", mu+std)"
   ]
  },
  {
   "cell_type": "markdown",
   "id": "bae82e12",
   "metadata": {},
   "source": [
    "### z_score value shows that my score is 0.35 standard deviation above mean. It lies in the first standard deviation range. So, performance is quite good."
   ]
  },
  {
   "cell_type": "code",
   "execution_count": null,
   "id": "9562d1af",
   "metadata": {},
   "outputs": [],
   "source": []
  }
 ],
 "metadata": {
  "kernelspec": {
   "display_name": "Python 3 (ipykernel)",
   "language": "python",
   "name": "python3"
  },
  "language_info": {
   "codemirror_mode": {
    "name": "ipython",
    "version": 3
   },
   "file_extension": ".py",
   "mimetype": "text/x-python",
   "name": "python",
   "nbconvert_exporter": "python",
   "pygments_lexer": "ipython3",
   "version": "3.9.13"
  }
 },
 "nbformat": 4,
 "nbformat_minor": 5
}
